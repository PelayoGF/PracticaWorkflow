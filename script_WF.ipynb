{
 "cells": [
  {
   "cell_type": "code",
   "execution_count": null,
   "id": "9e4e3bd3-5659-4e6c-a5e9-acc8675e8d03",
   "metadata": {},
   "outputs": [],
   "source": [
    "import pandas as pd\n",
    "import matplotlib.pyplot as plt\n",
    "\n",
    "# Cargar el dataset desde un archivo CSV (ajustar la ruta del archivo según sea necesario)\n",
    "df = pd.read_csv('OcupaciónHoteleraPreprocesado.csv')\n",
    "\n",
    "# Verificar cómo se estructura el dataset\n",
    "print(df.head())\n",
    "\n",
    "# Configurar el gráfico\n",
    "plt.figure(figsize=(10,6))\n",
    "\n",
    "# Graficar los datos para cada provincia\n",
    "for province in df['Provincia']:\n",
    "    # Obtener los datos de ocupación para cada provincia\n",
    "    province_data = df[df['Provincia'] == province].drop('Provincia', axis=1).values.flatten()\n",
    "    \n",
    "    # Graficar los datos\n",
    "    plt.plot(df.columns[1:], province_data, label=province)\n",
    "\n",
    "# Añadir detalles al gráfico\n",
    "plt.title('Ocupación Hotelera por Provincia de España (2017-2024)')\n",
    "plt.xlabel('Trimestres')\n",
    "plt.ylabel('Ocupación Hotelera')\n",
    "plt.xticks(rotation=45)\n",
    "plt.legend(title='Provincias', bbox_to_anchor=(1.05, 1), loc='upper left')\n",
    "\n",
    "# Mostrar el gráfico\n",
    "plt.tight_layout()\n",
    "plt.show()"
   ]
  }
 ],
 "metadata": {
  "kernelspec": {
   "display_name": "Python 3 (ipykernel)",
   "language": "python",
   "name": "python3"
  },
  "language_info": {
   "codemirror_mode": {
    "name": "ipython",
    "version": 3
   },
   "file_extension": ".py",
   "mimetype": "text/x-python",
   "name": "python",
   "nbconvert_exporter": "python",
   "pygments_lexer": "ipython3",
   "version": "3.11.4"
  }
 },
 "nbformat": 4,
 "nbformat_minor": 5
}
